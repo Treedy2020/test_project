{
 "cells": [
  {
   "cell_type": "code",
   "execution_count": 1,
   "metadata": {},
   "outputs": [
    {
     "name": "stderr",
     "output_type": "stream",
     "text": [
      "/usr/local/python/3.10.13/lib/python3.10/site-packages/tqdm/auto.py:21: TqdmWarning: IProgress not found. Please update jupyter and ipywidgets. See https://ipywidgets.readthedocs.io/en/stable/user_install.html\n",
      "  from .autonotebook import tqdm as notebook_tqdm\n",
      "No sentence-transformers model found with name Supabase/gte-small. Creating a new one with MEAN pooling.\n",
      "config.json: 100%|██████████| 583/583 [00:00<00:00, 3.22MB/s]\n",
      "pytorch_model.bin: 100%|██████████| 66.8M/66.8M [00:00<00:00, 294MB/s]\n",
      "/home/codespace/.local/lib/python3.10/site-packages/torch/_utils.py:831: UserWarning: TypedStorage is deprecated. It will be removed in the future and UntypedStorage will be the only storage class. This should only matter to you if you are using storages directly.  To access UntypedStorage directly, use tensor.untyped_storage() instead of tensor.storage()\n",
      "  return self.fget.__get__(instance, owner)()\n",
      "tokenizer_config.json: 100%|██████████| 557/557 [00:00<00:00, 2.26MB/s]\n",
      "vocab.txt: 100%|██████████| 232k/232k [00:00<00:00, 586kB/s]\n",
      "tokenizer.json: 100%|██████████| 712k/712k [00:00<00:00, 1.55MB/s]\n",
      "special_tokens_map.json: 100%|██████████| 125/125 [00:00<00:00, 620kB/s]\n"
     ]
    },
    {
     "name": "stdout",
     "output_type": "stream",
     "text": [
      "tensor([[0.9820]])\n"
     ]
    }
   ],
   "source": [
    "from sentence_transformers import SentenceTransformer\n",
    "from sentence_transformers.util import cos_sim\n",
    "\n",
    "model = SentenceTransformer('Supabase/gte-small')"
   ]
  },
  {
   "cell_type": "code",
   "execution_count": 8,
   "metadata": {},
   "outputs": [
    {
     "data": {
      "text/plain": [
       "array([[-0.4816889 ,  0.0946035 ,  0.5612057 , ..., -0.170989  ,\n",
       "         0.75524014,  0.23342006],\n",
       "       [-0.4742854 ,  0.3391939 ,  0.6639014 , ..., -0.0796257 ,\n",
       "         0.7889761 ,  0.18474922],\n",
       "       [-0.4816889 ,  0.0946035 ,  0.5612057 , ..., -0.170989  ,\n",
       "         0.75524014,  0.23342006],\n",
       "       ...,\n",
       "       [-0.4742854 ,  0.3391939 ,  0.6639014 , ..., -0.0796257 ,\n",
       "         0.7889761 ,  0.18474922],\n",
       "       [-0.4816889 ,  0.0946035 ,  0.5612057 , ..., -0.170989  ,\n",
       "         0.75524014,  0.23342006],\n",
       "       [-0.4742854 ,  0.3391939 ,  0.6639014 , ..., -0.0796257 ,\n",
       "         0.7889761 ,  0.18474922]], dtype=float32)"
      ]
     },
     "execution_count": 8,
     "metadata": {},
     "output_type": "execute_result"
    }
   ],
   "source": [
    "sentences = ['That is a happy person', 'That is a very happy person']*8000\n",
    "model.encode(sentences)"
   ]
  }
 ],
 "metadata": {
  "kernelspec": {
   "display_name": "Python 3 (ipykernel)",
   "language": "python",
   "name": "python3"
  },
  "language_info": {
   "codemirror_mode": {
    "name": "ipython",
    "version": 3
   },
   "file_extension": ".py",
   "mimetype": "text/x-python",
   "name": "python",
   "nbconvert_exporter": "python",
   "pygments_lexer": "ipython3",
   "version": "3.10.13"
  }
 },
 "nbformat": 4,
 "nbformat_minor": 2
}
